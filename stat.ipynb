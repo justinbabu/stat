{
 "cells": [
  {
   "cell_type": "code",
   "execution_count": 1,
   "id": "2a71766c",
   "metadata": {},
   "outputs": [],
   "source": [
    "import pandas as pd\n",
    "\n",
    "from dask import compute, delayed\n",
    "from dask.diagnostics import ProgressBar\n",
    "ProgressBar().register()"
   ]
  },
  {
   "cell_type": "code",
   "execution_count": 36,
   "id": "651375f6",
   "metadata": {},
   "outputs": [],
   "source": []
  },
  {
   "cell_type": "code",
   "execution_count": 37,
   "id": "46297db8",
   "metadata": {},
   "outputs": [],
   "source": []
  },
  {
   "cell_type": "code",
   "execution_count": 46,
   "id": "c923618f",
   "metadata": {},
   "outputs": [],
   "source": [
    "# from xlsx2csv import Xlsx2csv\n",
    "# from io import StringIO\n",
    "# import pandas as pd\n",
    "\n",
    "\n",
    "# def read_excel(path: str, sheet_name: str=None) -> pd.DataFrame:\n",
    "#     buffer = StringIO()\n",
    "#     Xlsx2csv(path, outputencoding=\"utf-8\", sheet_name=sheet_name).convert(buffer)\n",
    "#     buffer.seek(0)\n",
    "#     df = pd.read_csv(buffer)\n",
    "#     return df"
   ]
  },
  {
   "cell_type": "code",
   "execution_count": null,
   "id": "0f91b6a0",
   "metadata": {},
   "outputs": [],
   "source": []
  },
  {
   "cell_type": "code",
   "execution_count": 49,
   "id": "d1ddfdef",
   "metadata": {},
   "outputs": [],
   "source": [
    "def read_parallel():\n",
    "    file1 = \"./data/2020-ZCOPA.xlsx\"\n",
    "    file2 = \"./data/2021 COPA.XLSX\"\n",
    "    file3 = \"./data/2020-21 ZCKM3.xlsx\"\n",
    "    file4 = \"./data/Plant details COGS.xlsx\"\n",
    "    file5 = \"./data/USL TB DATA.xlsx\"\n",
    "    file8 = \"./data/COGS-GL and Grouping.xlsx\"\n",
    "    file9 = \"./data/FS Tag.xlsx\"\n",
    "    file11 = \"./data/BA Mapping.xlsx\"\n",
    "    paths  = [file1, file2, file3,file4,file5,file8,file9,file11]\n",
    "    delayed_results = [delayed(pd.read_excel)(file_name) for file_name in paths]\n",
    "    res = compute(*delayed_results, scheduler=\"processes\")\n",
    "    return tuple(res)"
   ]
  },
  {
   "cell_type": "code",
   "execution_count": 50,
   "id": "fa0672a9",
   "metadata": {},
   "outputs": [
    {
     "name": "stdout",
     "output_type": "stream",
     "text": [
      "[########################################] | 100% Completed |  1min 28.2s\n",
      "Wall time: 1min 28s\n"
     ]
    }
   ],
   "source": [
    "%%time\n",
    "d1, d2, d3, d4, d5, d8, d9, d11 = read_parallel()"
   ]
  },
  {
   "cell_type": "code",
   "execution_count": 51,
   "id": "c29c0ec9",
   "metadata": {},
   "outputs": [],
   "source": [
    "def COGS_as_per_ZCOPA(data1, data2, data4):\n",
    "\n",
    "    plant_bp_map = dict(zip(data4[\"Plnt\"], data4[\"Business Partner\"]))\n",
    "    plant_bp_map.update({5000: 5000})\n",
    "    data1[\"Company\"] = data1[\"Company Code\"].map(plant_bp_map)\n",
    "    data1[\"Company\"] = data1[\"Company\"].astype(str)\n",
    "    data1[\"Record Type\"] = data1[\"Record Type\"].astype(str)\n",
    "    data2[\"Company\"] = data2[\"Company Code\"].map(plant_bp_map)\n",
    "    data2[\"Company\"] = data2[\"Company\"].astype(str)\n",
    "    data2[\"Record Type\"] = data2[\"Record Type\"].astype(str)\n",
    "    period_sum_2020 = data1[(data1[\"Record Type\"] != \"1\") & (\n",
    "        data1[\"Company\"] == \"5000\")][\"COGS - Actual\"].sum()\n",
    "\n",
    "    period_sum_2021 = data2[(data2[\"Record Type\"] != \"1\") & (\n",
    "        data2[\"Company\"] == \"5000\")][\"COGS - Actual\"].sum()\n",
    "    return period_sum_2020, period_sum_2021"
   ]
  },
  {
   "cell_type": "code",
   "execution_count": 52,
   "id": "5386d9d8",
   "metadata": {},
   "outputs": [
    {
     "data": {
      "text/plain": [
       "(16290501702.429998, 16982128637.73)"
      ]
     },
     "execution_count": 52,
     "metadata": {},
     "output_type": "execute_result"
    }
   ],
   "source": [
    "COGS_as_per_ZCOPA(d1,d2,d4)"
   ]
  },
  {
   "cell_type": "code",
   "execution_count": 1,
   "id": "c9a84165",
   "metadata": {},
   "outputs": [],
   "source": [
    "import pandas as pd"
   ]
  },
  {
   "cell_type": "code",
   "execution_count": 3,
   "id": "a29cf2c0",
   "metadata": {},
   "outputs": [],
   "source": [
    "dl = pd.read_html(\"ZMM043FT.HTM\")"
   ]
  },
  {
   "cell_type": "code",
   "execution_count": 9,
   "id": "b6eaa400",
   "metadata": {},
   "outputs": [],
   "source": [
    "header = dl[0].iloc[0]\n",
    "dl[0].columns = header\n",
    "df = dl[0][1:]"
   ]
  },
  {
   "cell_type": "code",
   "execution_count": 11,
   "id": "2942792b",
   "metadata": {},
   "outputs": [],
   "source": [
    "df.to_csv(\"ZMM043FT.csv\",index=False)"
   ]
  },
  {
   "cell_type": "code",
   "execution_count": null,
   "id": "259e4f32",
   "metadata": {},
   "outputs": [],
   "source": []
  }
 ],
 "metadata": {
  "kernelspec": {
   "display_name": "Python 3",
   "language": "python",
   "name": "python3"
  },
  "language_info": {
   "codemirror_mode": {
    "name": "ipython",
    "version": 3
   },
   "file_extension": ".py",
   "mimetype": "text/x-python",
   "name": "python",
   "nbconvert_exporter": "python",
   "pygments_lexer": "ipython3",
   "version": "3.8.8"
  }
 },
 "nbformat": 4,
 "nbformat_minor": 5
}
